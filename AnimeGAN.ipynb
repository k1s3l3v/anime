{
  "nbformat": 4,
  "nbformat_minor": 0,
  "metadata": {
    "colab": {
      "name": "AnimeGAN.ipynb",
      "provenance": []
    },
    "kernelspec": {
      "name": "python3",
      "display_name": "Python 3"
    },
    "language_info": {
      "name": "python"
    }
  },
  "cells": [
    {
      "cell_type": "code",
      "metadata": {
        "id": "C74-xa_FKqWm"
      },
      "source": [
        "import os\n",
        "import numpy as np\n",
        "import matplotlib.pyplot as plt\n",
        "import cv2"
      ],
      "execution_count": 5,
      "outputs": []
    },
    {
      "cell_type": "code",
      "metadata": {
        "id": "CrqGWyGCHRg9"
      },
      "source": [
        "def list_images(basePath, contains=None):\n",
        "    return list_files(basePath, validExts=(\".jpg\", \".jpeg\", \".png\", \".bmp\"), \n",
        "                      contains=contains)\n",
        "\n",
        "def list_files(basePath, validExts=(\".jpg\", \".jpeg\", \".png\", \".bmp\"), \n",
        "               contains=None):\n",
        "    for (rootDir, dirNames, filenames) in os.walk(basePath):\n",
        "        for filename in filenames:\n",
        "            if contains is not None and filename.find(contains) == -1:\n",
        "                continue\n",
        "\n",
        "            ext = filename[filename.rfind(\".\"):].lower()\n",
        "\n",
        "            if ext.endswith(validExts):\n",
        "                imagePath = os.path.join(rootDir, filename).replace(\" \", \"\\\\ \")\n",
        "                yield imagePath\n",
        "                \n",
        "def load_images(directory='', size=(64,64)):\n",
        "    images = []\n",
        "    labels = []\n",
        "    label = 0\n",
        "    \n",
        "    imagePaths = list(list_images(directory))\n",
        "    \n",
        "    for path in imagePaths:\n",
        "        \n",
        "        if not('OSX' in path):\n",
        "        \n",
        "            path = path.replace('\\\\','/')\n",
        "\n",
        "            image = cv2.imread(path)\n",
        "            image = cv2.resize(image,size)\n",
        "\n",
        "            images.append(cv2.cvtColor(image, cv2.COLOR_BGR2RGB))\n",
        "    \n",
        "    return images"
      ],
      "execution_count": 6,
      "outputs": []
    },
    {
      "cell_type": "code",
      "metadata": {
        "id": "nElzyth9HSAE"
      },
      "source": [
        "data = load_images('data')\n",
        "_,ax1 = plt.subplots(figsize = (5,5)) \n",
        "ax1.imshow(data[0])\n",
        "ax1.axis('off')"
      ],
      "execution_count": null,
      "outputs": []
    }
  ]
}